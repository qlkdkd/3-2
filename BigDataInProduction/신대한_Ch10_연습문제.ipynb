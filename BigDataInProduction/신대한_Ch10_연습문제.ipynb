{
 "cells": [
  {
   "cell_type": "markdown",
   "metadata": {},
   "source": [
    "### 10-3 승차식 잔디깎이 기계의 판매. 승차식 잔디깎이를 제조하는 회사가 집중적인 판매 갬페인을 벌이기 위해 최고의 잠재 고객을 파악하고자 한다. 특히 제조업체는 소득(단위: 1000달러)과 주택 대지의 크기(단위: 1000제곱피트)를 기초로 하여 가구를 미래에 소유할 가능성이 있는 고객과 그렇지 않은 고객으로 분류하는 데 관심이 있다. 마케팅 전문가는 RidingMowers.csv파일에 들어 있는 랜덤 표본인 24가구를 살펴 보았다. 모든 데이터를 사용하여 2개 예측변수에 의한 소유 여부를 로지스틱 회귀로 적합했다.\n",
    "\n",
    "a. 승차식 잔디깎이 기계를 소유한 가구의 비율은 얼마인가? 50%"
   ]
  },
  {
   "cell_type": "code",
   "execution_count": null,
   "metadata": {},
   "outputs": [
    {
     "name": "stdout",
     "output_type": "stream",
     "text": [
      "Requirement already satisfied: dmba in c:\\users\\sdh05\\anaconda3\\lib\\site-packages (0.2.4)\n",
      "Requirement already satisfied: graphviz in c:\\users\\sdh05\\anaconda3\\lib\\site-packages (from dmba) (0.20.3)\n",
      "Requirement already satisfied: matplotlib in c:\\users\\sdh05\\anaconda3\\lib\\site-packages (from dmba) (3.9.2)\n",
      "Requirement already satisfied: numpy in c:\\users\\sdh05\\anaconda3\\lib\\site-packages (from dmba) (1.26.4)\n",
      "Requirement already satisfied: pandas in c:\\users\\sdh05\\anaconda3\\lib\\site-packages (from dmba) (2.2.2)\n",
      "Requirement already satisfied: scikit-learn in c:\\users\\sdh05\\anaconda3\\lib\\site-packages (from dmba) (1.5.1)\n",
      "Requirement already satisfied: scipy in c:\\users\\sdh05\\anaconda3\\lib\\site-packages (from dmba) (1.13.1)\n",
      "Requirement already satisfied: contourpy>=1.0.1 in c:\\users\\sdh05\\anaconda3\\lib\\site-packages (from matplotlib->dmba) (1.2.0)\n",
      "Requirement already satisfied: cycler>=0.10 in c:\\users\\sdh05\\anaconda3\\lib\\site-packages (from matplotlib->dmba) (0.11.0)\n",
      "Requirement already satisfied: fonttools>=4.22.0 in c:\\users\\sdh05\\anaconda3\\lib\\site-packages (from matplotlib->dmba) (4.51.0)\n",
      "Requirement already satisfied: kiwisolver>=1.3.1 in c:\\users\\sdh05\\anaconda3\\lib\\site-packages (from matplotlib->dmba) (1.4.4)\n",
      "Requirement already satisfied: packaging>=20.0 in c:\\users\\sdh05\\anaconda3\\lib\\site-packages (from matplotlib->dmba) (24.1)\n",
      "Requirement already satisfied: pillow>=8 in c:\\users\\sdh05\\anaconda3\\lib\\site-packages (from matplotlib->dmba) (10.4.0)\n",
      "Requirement already satisfied: pyparsing>=2.3.1 in c:\\users\\sdh05\\anaconda3\\lib\\site-packages (from matplotlib->dmba) (3.1.2)\n",
      "Requirement already satisfied: python-dateutil>=2.7 in c:\\users\\sdh05\\anaconda3\\lib\\site-packages (from matplotlib->dmba) (2.9.0.post0)\n",
      "Requirement already satisfied: pytz>=2020.1 in c:\\users\\sdh05\\anaconda3\\lib\\site-packages (from pandas->dmba) (2024.1)\n",
      "Requirement already satisfied: tzdata>=2022.7 in c:\\users\\sdh05\\anaconda3\\lib\\site-packages (from pandas->dmba) (2023.3)\n",
      "Requirement already satisfied: joblib>=1.2.0 in c:\\users\\sdh05\\anaconda3\\lib\\site-packages (from scikit-learn->dmba) (1.4.2)\n",
      "Requirement already satisfied: threadpoolctl>=3.1.0 in c:\\users\\sdh05\\anaconda3\\lib\\site-packages (from scikit-learn->dmba) (3.5.0)\n",
      "Requirement already satisfied: six>=1.5 in c:\\users\\sdh05\\anaconda3\\lib\\site-packages (from python-dateutil>=2.7->matplotlib->dmba) (1.16.0)\n"
     ]
    },
    {
     "data": {
      "text/html": [
       "<div>\n",
       "<style scoped>\n",
       "    .dataframe tbody tr th:only-of-type {\n",
       "        vertical-align: middle;\n",
       "    }\n",
       "\n",
       "    .dataframe tbody tr th {\n",
       "        vertical-align: top;\n",
       "    }\n",
       "\n",
       "    .dataframe thead th {\n",
       "        text-align: right;\n",
       "    }\n",
       "</style>\n",
       "<table border=\"1\" class=\"dataframe\">\n",
       "  <thead>\n",
       "    <tr style=\"text-align: right;\">\n",
       "      <th></th>\n",
       "      <th>Income</th>\n",
       "      <th>Lot_Size</th>\n",
       "      <th>Ownership</th>\n",
       "    </tr>\n",
       "  </thead>\n",
       "  <tbody>\n",
       "    <tr>\n",
       "      <th>0</th>\n",
       "      <td>60.0</td>\n",
       "      <td>18.4</td>\n",
       "      <td>Owner</td>\n",
       "    </tr>\n",
       "    <tr>\n",
       "      <th>1</th>\n",
       "      <td>85.5</td>\n",
       "      <td>16.8</td>\n",
       "      <td>Owner</td>\n",
       "    </tr>\n",
       "    <tr>\n",
       "      <th>2</th>\n",
       "      <td>64.8</td>\n",
       "      <td>21.6</td>\n",
       "      <td>Owner</td>\n",
       "    </tr>\n",
       "    <tr>\n",
       "      <th>3</th>\n",
       "      <td>61.5</td>\n",
       "      <td>20.8</td>\n",
       "      <td>Owner</td>\n",
       "    </tr>\n",
       "    <tr>\n",
       "      <th>4</th>\n",
       "      <td>87.0</td>\n",
       "      <td>23.6</td>\n",
       "      <td>Owner</td>\n",
       "    </tr>\n",
       "  </tbody>\n",
       "</table>\n",
       "</div>"
      ],
      "text/plain": [
       "   Income  Lot_Size Ownership\n",
       "0    60.0      18.4     Owner\n",
       "1    85.5      16.8     Owner\n",
       "2    64.8      21.6     Owner\n",
       "3    61.5      20.8     Owner\n",
       "4    87.0      23.6     Owner"
      ]
     },
     "execution_count": 9,
     "metadata": {},
     "output_type": "execute_result"
    }
   ],
   "source": [
    "!pip install dmba\n",
    "import pandas as pd\n",
    "\n",
    "import dmba\n",
    "data=dmba.load_data('ridingmowers.csv')\n",
    "data.head()"
   ]
  },
  {
   "cell_type": "code",
   "execution_count": null,
   "metadata": {},
   "outputs": [
    {
     "data": {
      "text/plain": [
       "0.5"
      ]
     },
     "execution_count": 2,
     "metadata": {},
     "output_type": "execute_result"
    }
   ],
   "source": [
    "# Calculate the proportion of households that own a riding mower\n",
    "ownership_counts = data['Ownership'].value_counts()\n",
    "ownership_ratio = ownership_counts['Owner'] / len(data)\n",
    "\n",
    "ownership_ratio\n"
   ]
  },
  {
   "cell_type": "markdown",
   "metadata": {},
   "source": [
    "b. 다른 색상이나 기호를 이용하여, 승차식 잔디깎이 기계의 소유자와 비소유자를 구별하기 위해 소득과 주택 대지 크기에 대한 산점도를 그리시오. 이 산점도에서 소유자와 비소유자 중 어떤 클래스가 평균 소득보다 높은 소득을 가지는가?\n",
    "\n",
    "소유자 클래스가 평균적으로 더 높은 소득을 가지고 있음"
   ]
  },
  {
   "cell_type": "code",
   "execution_count": 3,
   "metadata": {},
   "outputs": [
    {
     "data": {
      "image/png": "[encoded data removed]",
      "text/plain": [
       "<Figure size 1000x600 with 1 Axes>"
      ]
     },
     "metadata": {},
     "output_type": "display_data"
    },
    {
     "data": {
      "text/plain": [
       "(79.47500000000001, 57.400000000000006)"
      ]
     },
     "execution_count": 3,
     "metadata": {},
     "output_type": "execute_result"
    }
   ],
   "source": [
    "import matplotlib.pyplot as plt\n",
    "\n",
    "# Separate the data by ownership\n",
    "owners = data[data['Ownership'] == 'Owner']\n",
    "non_owners = data[data['Ownership'] != 'Owner']\n",
    "\n",
    "# Calculate the average income\n",
    "average_income = data['Income'].mean()\n",
    "\n",
    "# Create the scatter plot\n",
    "plt.figure(figsize=(10, 6))\n",
    "plt.scatter(owners['Income'], owners['Lot_Size'], label='Owners', marker='o', alpha=0.7)\n",
    "plt.scatter(non_owners['Income'], non_owners['Lot_Size'], label='Non-Owners', marker='x', alpha=0.7)\n",
    "\n",
    "# Add a horizontal line for average income\n",
    "plt.axvline(x=average_income, color='red', linestyle='--', label='Average Income')\n",
    "\n",
    "# Add labels, legend, and title\n",
    "plt.xlabel('Income (in $1000)')\n",
    "plt.ylabel('Lot Size (in 1000 sq. ft.)')\n",
    "plt.title('Scatter Plot of Income and Lot Size by Ownership')\n",
    "plt.legend()\n",
    "plt.grid(True)\n",
    "plt.show()\n",
    "\n",
    "# Determine the class with higher average income\n",
    "average_income_owners = owners['Income'].mean()\n",
    "average_income_non_owners = non_owners['Income'].mean()\n",
    "\n",
    "average_income_owners, average_income_non_owners\n"
   ]
  },
  {
   "cell_type": "markdown",
   "metadata": {},
   "source": [
    "c. 비소유자 중에서 정확하게 분류된 가구의 비율은 얼마인가?\n",
    "\n",
    "50%"
   ]
  },
  {
   "cell_type": "code",
   "execution_count": 10,
   "metadata": {},
   "outputs": [
    {
     "ename": "IndexError",
     "evalue": "index 16 is out of bounds for axis 0 with size 5",
     "output_type": "error",
     "traceback": [
      "\u001b[1;31m---------------------------------------------------------------------------\u001b[0m",
      "\u001b[1;31mIndexError\u001b[0m                                Traceback (most recent call last)",
      "Cell \u001b[1;32mIn[10], line 21\u001b[0m\n\u001b[0;32m     19\u001b[0m \u001b[38;5;66;03m# Calculate accuracy for non-owners in the test set\u001b[39;00m\n\u001b[0;32m     20\u001b[0m non_owners_test \u001b[38;5;241m=\u001b[39m y_test[y_test \u001b[38;5;241m==\u001b[39m \u001b[38;5;241m0\u001b[39m]  \u001b[38;5;66;03m# Filter non-owners\u001b[39;00m\n\u001b[1;32m---> 21\u001b[0m non_owners_pred \u001b[38;5;241m=\u001b[39m y_pred[non_owners_test\u001b[38;5;241m.\u001b[39mindex]  \u001b[38;5;66;03m# Predictions for non-owners\u001b[39;00m\n\u001b[0;32m     22\u001b[0m non_owners_accuracy \u001b[38;5;241m=\u001b[39m accuracy_score(non_owners_test, non_owners_pred)\n\u001b[0;32m     24\u001b[0m non_owners_accuracy\n",
      "\u001b[1;31mIndexError\u001b[0m: index 16 is out of bounds for axis 0 with size 5"
     ]
    }
   ],
   "source": [
    "from sklearn.model_selection import train_test_split\n",
    "from sklearn.linear_model import LogisticRegression\n",
    "from sklearn.metrics import accuracy_score\n",
    "\n",
    "# Prepare the data for logistic regression\n",
    "X = data[['Income', 'Lot_Size']]\n",
    "y = (data['Ownership'] == 'Owner').astype(int)  # Encode 'Owner' as 1, others as 0\n",
    "\n",
    "# Split data into training and testing sets (80-20 split)\n",
    "X_train, X_test, y_train, y_test = train_test_split(X, y, test_size=0.2, random_state=42)\n",
    "\n",
    "# Train logistic regression model\n",
    "model = LogisticRegression()\n",
    "model.fit(X_train, y_train)\n",
    "\n",
    "# Make predictions on the testing set\n",
    "y_pred = model.predict(X_test)\n",
    "\n",
    "# Calculate accuracy for non-owners in the test set\n",
    "non_owners_test = y_test[y_test == 0]  # Filter non-owners\n",
    "non_owners_pred = y_pred[non_owners_test.index]  # Predictions for non-owners\n",
    "non_owners_accuracy = accuracy_score(non_owners_test, non_owners_pred)\n",
    "\n",
    "non_owners_accuracy\n"
   ]
  },
  {
   "cell_type": "code",
   "execution_count": 11,
   "metadata": {},
   "outputs": [
    {
     "data": {
      "text/plain": [
       "0.5"
      ]
     },
     "execution_count": 11,
     "metadata": {},
     "output_type": "execute_result"
    }
   ],
   "source": [
    "# Correcting the index alignment issue for non-owners in the test set\n",
    "import numpy as np\n",
    "\n",
    "# Map the predictions back to the original index of the test set\n",
    "y_pred_series = pd.Series(y_pred, index=y_test.index)\n",
    "\n",
    "# Filter non-owners in the test set\n",
    "non_owners_test = y_test[y_test == 0]\n",
    "non_owners_pred = y_pred_series[non_owners_test.index]\n",
    "\n",
    "# Calculate the accuracy for non-owners\n",
    "non_owners_accuracy = accuracy_score(non_owners_test, non_owners_pred)\n",
    "\n",
    "non_owners_accuracy\n"
   ]
  },
  {
   "cell_type": "markdown",
   "metadata": {},
   "source": [
    "d. 정확하게 분류된 비소유자의 비율을 높이려면, 컷오프 값을 증가 또는 감소해야 하는가?\n",
    "\n",
    "컷오프 값을 증가시켜야 함"
   ]
  },
  {
   "cell_type": "code",
   "execution_count": 12,
   "metadata": {},
   "outputs": [
    {
     "data": {
      "text/plain": [
       "[(0.5, 0.5), (0.6, 0.5), (0.7, 1.0), (0.8, 1.0)]"
      ]
     },
     "execution_count": 12,
     "metadata": {},
     "output_type": "execute_result"
    }
   ],
   "source": [
    "# Function to calculate non-owner accuracy for a given cutoff value\n",
    "def calculate_non_owner_accuracy(cutoff):\n",
    "    # Predict probabilities\n",
    "    y_prob = model.predict_proba(X_test)[:, 1]\n",
    "    # Apply the cutoff value\n",
    "    y_pred_cutoff = (y_prob >= cutoff).astype(int)\n",
    "    # Map predictions back to the test set index\n",
    "    y_pred_cutoff_series = pd.Series(y_pred_cutoff, index=y_test.index)\n",
    "    # Filter non-owners\n",
    "    non_owners_pred_cutoff = y_pred_cutoff_series[non_owners_test.index]\n",
    "    # Calculate accuracy\n",
    "    return accuracy_score(non_owners_test, non_owners_pred_cutoff)\n",
    "\n",
    "# Test non-owner accuracy with increased cutoff values (e.g., 0.6, 0.7, 0.8)\n",
    "cutoffs = [0.5, 0.6, 0.7, 0.8]\n",
    "accuracies = [calculate_non_owner_accuracy(cutoff) for cutoff in cutoffs]\n",
    "\n",
    "# Display results\n",
    "list(zip(cutoffs, accuracies))\n"
   ]
  },
  {
   "cell_type": "markdown",
   "metadata": {},
   "source": [
    "e. 소득이 60000달러이고, 주택 대지의 크기가 20000제곱피트인 가구가 승차식 잔디깎이 기계를 소유하고 있을 오즈는 얼마인가?\n",
    "\n",
    "0.608"
   ]
  },
  {
   "cell_type": "code",
   "execution_count": 13,
   "metadata": {},
   "outputs": [
    {
     "data": {
      "text/plain": [
       "(0.37802761662604484, 0.6077884271571575)"
      ]
     },
     "execution_count": 13,
     "metadata": {},
     "output_type": "execute_result"
    }
   ],
   "source": [
    "# Define the input features for the given household\n",
    "input_features = pd.DataFrame({'Income': [60], 'Lot_Size': [20]})\n",
    "\n",
    "# Predict the probability of ownership for the given features\n",
    "ownership_probability = model.predict_proba(input_features)[0, 1]\n",
    "\n",
    "# Calculate the odds\n",
    "odds = ownership_probability / (1 - ownership_probability)\n",
    "\n",
    "ownership_probability, odds\n"
   ]
  },
  {
   "cell_type": "markdown",
   "metadata": {},
   "source": [
    "f. 소득이 60000달러이고 주택 대지의 크기가 20000제곱피트인 가구의 분류 결과는 무엇인가? 컷오프 값은 0.5를 사용하시오\n",
    "\n",
    "비소유자로 분류됨"
   ]
  },
  {
   "cell_type": "code",
   "execution_count": 14,
   "metadata": {},
   "outputs": [
    {
     "data": {
      "text/plain": [
       "'Non-Owner'"
      ]
     },
     "execution_count": 14,
     "metadata": {},
     "output_type": "execute_result"
    }
   ],
   "source": [
    "# Classify the household using a cutoff of 0.5\n",
    "classification = \"Owner\" if ownership_probability >= 0.5 else \"Non-Owner\"\n",
    "\n",
    "classification\n"
   ]
  },
  {
   "cell_type": "markdown",
   "metadata": {},
   "source": [
    "g. 주택 대지의 크기가 16000제곱피트인 가구가 소유자로 분류되기 위한 최소한의 소득은 얼마인가?\n",
    "\n",
    "89175달러"
   ]
  },
  {
   "cell_type": "code",
   "execution_count": 15,
   "metadata": {},
   "outputs": [
    {
     "data": {
      "text/plain": [
       "89175.17754355773"
      ]
     },
     "execution_count": 15,
     "metadata": {},
     "output_type": "execute_result"
    }
   ],
   "source": [
    "# Retrieve model coefficients and intercept\n",
    "intercept = model.intercept_[0]\n",
    "coef_income, coef_lot_size = model.coef_[0]\n",
    "\n",
    "# Set Lot_Size to 16 and solve for Income when P = 0.5\n",
    "lot_size = 16  # in 1000 sq. ft.\n",
    "income_min = -(intercept + coef_lot_size * lot_size) / coef_income\n",
    "\n",
    "income_min_actual = income_min * 1000  # Convert to actual dollar value\n",
    "income_min_actual\n"
   ]
  }
 ],
 "metadata": {
  "kernelspec": {
   "display_name": "base",
   "language": "python",
   "name": "python3"
  },
  "language_info": {
   "codemirror_mode": {
    "name": "ipython",
    "version": 3
   },
   "file_extension": ".py",
   "mimetype": "text/x-python",
   "name": "python",
   "nbconvert_exporter": "python",
   "pygments_lexer": "ipython3",
   "version": "3.11.5"
  }
 },
 "nbformat": 4,
 "nbformat_minor": 2
}
