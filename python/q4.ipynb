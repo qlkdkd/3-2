{
 "cells": [
  {
   "cell_type": "markdown",
   "metadata": {},
   "source": [
    "# 심화문제\n",
    " 4.1. 사용자로부터 a에서 z까지의 알페벳 문자 하나를 입력 받아서 a, e, i, o, u일 경우 다음과 같이 '모음입니다.'를 출력하고, 이외의 문자일 경우 '자음입니다.'를 출력하라"
   ]
  },
  {
   "cell_type": "code",
   "execution_count": 2,
   "metadata": {},
   "outputs": [
    {
     "name": "stdout",
     "output_type": "stream",
     "text": [
      "모음입니다.\n"
     ]
    }
   ],
   "source": [
    "alphabet=input('알파벳을 입력하시오: ')\n",
    "if alphabet=='a'or'e'or'i'or'o'or'u':\n",
    "    print(\"모음입니다.\")\n",
    "else:\n",
    "    print('자음입니다.')"
   ]
  },
  {
   "cell_type": "markdown",
   "metadata": {},
   "source": [
    "4.2. 다음과 같이 사용자로부터 임의의 정수 3개를 입력으로 받아서 가장 큰 수부터 작은 수까지나열하는 프로그램을 if-else문을 사용하여 작성하라"
   ]
  },
  {
   "cell_type": "code",
   "execution_count": 9,
   "metadata": {},
   "outputs": [
    {
     "name": "stdout",
     "output_type": "stream",
     "text": [
      "122 9 4\n"
     ]
    }
   ],
   "source": [
    "a, b, c=map(int, input().split())\n",
    "if a>b and b>c:\n",
    "    print(a, b, c)\n",
    "if b>c and c>a:\n",
    "    print(b, c, a)\n",
    "if c>a and a>b:\n",
    "    print(c, a, b)"
   ]
  },
  {
   "cell_type": "markdown",
   "metadata": {},
   "source": [
    "4.3. 다음과 같이 사용자로부터 나이를 입력받아 20살 이상이면 'Adult', 10살 이상 20살 미만이면 'Youth', 10살 미만이면 'kid'를 출력하는 프로그램을 작성하라"
   ]
  },
  {
   "cell_type": "code",
   "execution_count": 11,
   "metadata": {},
   "outputs": [
    {
     "name": "stdout",
     "output_type": "stream",
     "text": [
      "Adult\n"
     ]
    }
   ],
   "source": [
    "age=int(input(\"나이를 입력하시오: \"))\n",
    "\n",
    "if age>=20:\n",
    "    print(\"Adult\")\n",
    "elif age>10 and age<20:\n",
    "    print(\"Youth\")\n",
    "else:\n",
    "    print(\"Kid\")"
   ]
  },
  {
   "cell_type": "markdown",
   "metadata": {},
   "source": [
    "4.4. 하나의 정수를 입력으로 받아서 이 정수가 2로 나누어지는지, 3으로 나누어지는지, 혹은 두 정수로 모두로 나누어지는지 알려주는 프로그램을 다음과 같이 작성하여라"
   ]
  },
  {
   "cell_type": "code",
   "execution_count": 15,
   "metadata": {},
   "outputs": [
    {
     "name": "stdout",
     "output_type": "stream",
     "text": [
      "30은 2로 나누어 집니다.\n",
      "30은 3으로 나누어 집니다.\n",
      "30은 2와 3으로 나누어 집니다.\n"
     ]
    }
   ],
   "source": [
    "n=int(input(\"정수를 입력하시오: \"))\n",
    "if n%2!=0:\n",
    "    print(f\"{n}은 2로 나누어지지 않습니다.\")\n",
    "elif n%2==0:\n",
    "    print(f\"{n}은 2로 나누어 집니다.\")\n",
    "if n%3!=0:\n",
    "    print(f'{n}은 3으로 나누어 지지 않습니다.')\n",
    "elif(n%3==0):\n",
    "    print(f\"{n}은 3으로 나누어 집니다.\")\n",
    "if (n%2==0 and n%3==0):\n",
    "    print(f\"{n}은 2와 3으로 나누어 집니다.\")\n",
    "else:\n",
    "    print(f\"{n}은 2와 3 모두로 나누어 지지 않습니다.\")"
   ]
  },
  {
   "cell_type": "markdown",
   "metadata": {},
   "source": [
    "4.5. random.randint(0,9)를 사용하여 0에서 9 사이의 복권번호 3개를 생성하도록 하자. 이들 중에서 3개의 숫자를 모두 맞히면 '1억원', 2개를 맞추면 '1천만원', 1개를 맞히추면 '1만원', 모두 틀리면 '다음 기회에'을 출력하는 복권시스템이 있다고 가정하자. 사용자로부터 3개의 정수를 받은 다음 상금을 알려주는 프로그램을 다음과 같이 작성하라"
   ]
  },
  {
   "cell_type": "code",
   "execution_count": 16,
   "metadata": {},
   "outputs": [
    {
     "name": "stdout",
     "output_type": "stream",
     "text": [
      "다음 기회에...\n"
     ]
    }
   ],
   "source": [
    "import random\n",
    "\n",
    "a, b, c=map(int, input().split())\n",
    "la=random.randint(0, 9)\n",
    "lb=random.randint(0, 9)\n",
    "lc=random.randint(0, 9)\n",
    "\n",
    "if (a, b, c)==(la, lb, lc):\n",
    "    print('1억원')\n",
    "elif (a, b, c)!=(la, lb, lc):\n",
    "    print('다음 기회에...')\n",
    "elif (a==la and b==lb) or (b==lb and c==lc) or (c==lc and a==la):\n",
    "    print(\"1만원\")\n",
    "else:\n",
    "    print('1천만원')"
   ]
  },
  {
   "cell_type": "markdown",
   "metadata": {},
   "source": [
    "4.6 철수는 최근 식당을 오픈하여 자신의 식당 메뉴 주문 프로그램을 직접 개발하고자 한다. 이를 위하여 사용자에게 다음과 같은 메뉴를 보여주고 알파벳 b, c, p 중에 하나를 선택하도록 하자. 이때 메뉴에 없는 알파벳이 입력되면 \"선택한 메뉴가 없습니다\"가 출력되도록 하여라"
   ]
  },
  {
   "cell_type": "code",
   "execution_count": 18,
   "metadata": {},
   "outputs": [
    {
     "name": "stdout",
     "output_type": "stream",
     "text": [
      "우리 식당에 오신 것을 환영합니다. 메뉴는 다음과 같습니다.\n",
      "-햄버거(입력 b)\n",
      "-치킨(입력 c)\n",
      "-피자(입력 p)\n",
      "치킨을 선택하셨습니다.\n"
     ]
    }
   ],
   "source": [
    "print(\"우리 식당에 오신 것을 환영합니다. 메뉴는 다음과 같습니다.\\n-햄버거(입력 b)\\n-치킨(입력 c)\\n-피자(입력 p)\")\n",
    "menu=input(\"메뉴를 선택하세요(알파벳 b, c, p 입력): \")\n",
    "if menu=='b':\n",
    "    print('햄버거를 선택하셨습니다.')\n",
    "elif menu=='c':\n",
    "    print('치킨을 선택하셨습니다.')\n",
    "elif menu=='p':\n",
    "    print(\"피자를 선택하셨습니다.\")\n",
    "else:\n",
    "    print(\"선택한 메뉴가 없습니다.\")"
   ]
  },
  {
   "cell_type": "markdown",
   "metadata": {},
   "source": [
    "4.7. 파이썬의 random.randint(1, 100)을 이용하여 1에서 100사의의 임의의 난수 2개를 생성하여라. 다음으로 두 수의 합을 묻는 질문을 사용자에게 던지도록 하라. 만일 사용자가 두 수의 합을 맞추면 '잘했어요!!'를 출력하여라. 만약 틀릴 경우 '정답은 000입니다.'를 출력하여라"
   ]
  },
  {
   "cell_type": "code",
   "execution_count": 19,
   "metadata": {},
   "outputs": [
    {
     "name": "stdout",
     "output_type": "stream",
     "text": [
      "정답은 78입니다.\n"
     ]
    }
   ],
   "source": [
    "import random\n",
    "ra=random.randint(1, 100)\n",
    "rb=random.randint(1, 100)\n",
    "\n",
    "a, b=map(int, input().split())\n",
    "if a+b==ra+rb:\n",
    "    print('잘했어요')\n",
    "else:\n",
    "    print(f\"정답은 {ra+rb}입니다.\")"
   ]
  },
  {
   "cell_type": "markdown",
   "metadata": {},
   "source": [
    "4.8. 덧셈, 뺄셈, 곱셈, 나눗셈을 수행해주는 프로그램을 작성하려 한다. 원하는 연산의 번호(1: 덧셈, 2: 뺄셈, 3. 곱셈, 4. 나눗셈)을 입력 후, 두 개의 양의 정수를 입력하면 연산 결과를 출력해준다. 이때 연산의 번호에서 1, 2, 3, 4가 아닌 다른 값이 입력되면 '잘못 입력하였습니다.'를 출력한다. 또한 각 연산에 배정된 숫자가 아닌, 다른 숫자를 입력하면 잘못 입력하였다는 정보를 출력하여야 한다."
   ]
  },
  {
   "cell_type": "code",
   "execution_count": 20,
   "metadata": {},
   "outputs": [
    {
     "name": "stdout",
     "output_type": "stream",
     "text": [
      "1)덧셈 2)뺄셈 3)곱셈 4)나눗셈\n",
      "1+1=2\n"
     ]
    }
   ],
   "source": [
    "print('1)덧셈 2)뺄셈 3)곱셈 4)나눗셈')\n",
    "op=int(input(\"어떤 연산을 원하는지 번호를 입력하세요: \"))\n",
    "a, b=map(int, input(\"연산을 원하는 숫자 두 개를 입력하세요: \").split())\n",
    "\n",
    "if op==1:\n",
    "    print(f\"{a}+{b}={a+b}\")\n",
    "elif op==2:\n",
    "    print(f\"{a}-{b}={a-b}\")\n",
    "elif op==3:\n",
    "    print(f\"{a}*{b}={a*b}\")\n",
    "elif op==4:\n",
    "    print(f\"{a}/{b}={a/b}\")\n",
    "else:\n",
    "    print('잘못 입력하셨습니다.')"
   ]
  }
 ],
 "metadata": {
  "kernelspec": {
   "display_name": "base",
   "language": "python",
   "name": "python3"
  },
  "language_info": {
   "codemirror_mode": {
    "name": "ipython",
    "version": 3
   },
   "file_extension": ".py",
   "mimetype": "text/x-python",
   "name": "python",
   "nbconvert_exporter": "python",
   "pygments_lexer": "ipython3",
   "version": "3.11.5"
  }
 },
 "nbformat": 4,
 "nbformat_minor": 2
}
